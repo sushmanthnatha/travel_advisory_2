{
 "cells": [
  {
   "cell_type": "code",
   "execution_count": 1,
   "metadata": {},
   "outputs": [],
   "source": [
    "import pandas as pd\n",
    "import numpy as np\n",
    "import matplotlib.pyplot as plt\n",
    "import folium\n",
    "import requests\n",
    "import json\n",
    "\n",
    "#! pip install reverse_geocoder"
   ]
  },
  {
   "cell_type": "code",
   "execution_count": 3,
   "metadata": {},
   "outputs": [
    {
     "name": "stdout",
     "output_type": "stream",
     "text": [
      "[OrderedDict([('lat', '14.45363'), ('lon', '79.98674'), ('name', 'Nellore'), ('admin1', 'Andhra Pradesh'), ('admin2', 'Nellore'), ('cc', 'IN')])]\n",
      "<class 'list'>\n",
      "City -  Kovur\n",
      "State/Neighbourhood -  Andhra Pradesh\n",
      "Country -  India\n"
     ]
    }
   ],
   "source": [
    "#  github package :  https://github.com/thampiman/reverse-geocoder\n",
    "import reverse_geocoder as rg\n",
    "coordinates = (14.4426,79.9865)\n",
    "results = rg.search(coordinates) # default mode = 2\n",
    "\n",
    "print(results)\n",
    "print(type(results))\n",
    "\n",
    "def get_location_details(lat,long):\n",
    "    latlong=(lat,long)\n",
    "    results=rg.search(latlong)\n",
    "    df=pd.read_csv('../json_csv_files/country_isocode.csv')\n",
    "    if df[ df['Code']==results[0]['cc']]['Name'].values[0]!=None:\n",
    "        print('City - ',results[0]['name'])\n",
    "        print('State/Neighbourhood - ',results[0]['admin1'])\n",
    "        print('Country - ', df[ df['Code']=='IN']['Name'].values[0])\n",
    "        \n",
    "    else:\n",
    "        return 'Location not found'\n",
    "    \n",
    "    \n",
    "get_location_details(14.6914, 79.6759)    "
   ]
  },
  {
   "cell_type": "markdown",
   "metadata": {},
   "source": [
    "### Sentiment Analysis-1"
   ]
  },
  {
   "cell_type": "code",
   "execution_count": 4,
   "metadata": {},
   "outputs": [
    {
     "name": "stdout",
     "output_type": "stream",
     "text": [
      "{'neg': 0.0, 'neu': 0.58, 'pos': 0.42, 'compound': 0.4404}\n"
     ]
    },
    {
     "name": "stderr",
     "output_type": "stream",
     "text": [
      "C:\\ProgramData\\Anaconda3\\lib\\site-packages\\nltk\\twitter\\__init__.py:20: UserWarning: The twython library has not been installed. Some functionality from the twitter package will not be available.\n",
      "  warnings.warn(\"The twython library has not been installed. \"\n"
     ]
    }
   ],
   "source": [
    "import nltk\n",
    "#nltk.download('vader_lexicon')\n",
    "\n",
    "from nltk.sentiment.vader import SentimentIntensityAnalyzer\n",
    "\n",
    "sentence='APPle is good for health'\n",
    "sid = SentimentIntensityAnalyzer()\n",
    "ss = sid.polarity_scores(sentence)  \n",
    "print(ss)"
   ]
  },
  {
   "cell_type": "code",
   "execution_count": null,
   "metadata": {},
   "outputs": [],
   "source": []
  }
 ],
 "metadata": {
  "kernelspec": {
   "display_name": "Python 3",
   "language": "python",
   "name": "python3"
  },
  "language_info": {
   "codemirror_mode": {
    "name": "ipython",
    "version": 3
   },
   "file_extension": ".py",
   "mimetype": "text/x-python",
   "name": "python",
   "nbconvert_exporter": "python",
   "pygments_lexer": "ipython3",
   "version": "3.6.5"
  }
 },
 "nbformat": 4,
 "nbformat_minor": 2
}
