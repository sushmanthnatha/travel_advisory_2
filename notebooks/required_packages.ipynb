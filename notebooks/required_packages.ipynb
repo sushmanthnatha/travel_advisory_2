{
 "cells": [
  {
   "cell_type": "markdown",
   "metadata": {},
   "source": [
    "### Run the below cell for downlaoding/updating all the necessary packages."
   ]
  },
  {
   "cell_type": "code",
   "execution_count": null,
   "metadata": {},
   "outputs": [],
   "source": [
    "!pip install numpy \n",
    "!pip install pandas \n",
    "!pip install matplotlib\n",
    "!pip install seaborn\n",
    "!pip install folium\n",
    "!pip install bs4\n",
    "!pip install requests\n",
    "!pip install urllib\n",
    "!pip install googletrans\n",
    "!pip install datapackage\n",
    "!pip install pyspellchecker\n",
    "!pip install pyenchant\n",
    "! pip install reverse_geocoder\n",
    "nltk.download('vader_lexicon')"
   ]
  }
 ],
 "metadata": {
  "kernelspec": {
   "display_name": "Python 3",
   "language": "python",
   "name": "python3"
  },
  "language_info": {
   "codemirror_mode": {
    "name": "ipython",
    "version": 3
   },
   "file_extension": ".py",
   "mimetype": "text/x-python",
   "name": "python",
   "nbconvert_exporter": "python",
   "pygments_lexer": "ipython3",
   "version": "3.6.5"
  }
 },
 "nbformat": 4,
 "nbformat_minor": 2
}
